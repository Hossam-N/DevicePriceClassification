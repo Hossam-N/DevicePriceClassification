{
 "cells": [
  {
   "cell_type": "code",
   "execution_count": 12,
   "metadata": {},
   "outputs": [],
   "source": [
    "# import necessary libraries for machine learning classification model\n",
    "import pandas as pd\n",
    "import numpy as np\n",
    "import matplotlib.pyplot as plt\n",
    "import seaborn as sns\n",
    "from sklearn.model_selection import train_test_split\n",
    "from sklearn.linear_model import LogisticRegression\n",
    "from sklearn.ensemble import RandomForestClassifier\n",
    "from sklearn.svm import SVC\n",
    "from sklearn.neighbors import KNeighborsClassifier\n",
    "from xgboost import XGBClassifier\n",
    "from joblib import load, dump\n",
    "from sklearn.metrics import confusion_matrix, classification_report, accuracy_score"
   ]
  },
  {
   "cell_type": "code",
   "execution_count": 15,
   "metadata": {},
   "outputs": [
    {
     "name": "stdout",
     "output_type": "stream",
     "text": [
      "1991\n"
     ]
    }
   ],
   "source": [
    "df = pd.read_excel('Data/cleaned_data.xlsx')\n",
    "print(len(df))"
   ]
  },
  {
   "cell_type": "markdown",
   "metadata": {},
   "source": [
    "# Evaluation Metrics Used:\n",
    "- Accuracy \n",
    "- Confusion matrix\n",
    "- Classification report"
   ]
  },
  {
   "cell_type": "code",
   "execution_count": 16,
   "metadata": {},
   "outputs": [],
   "source": [
    "def evaluate_model(y, y_pred):\n",
    "    print('Accuracy:', accuracy_score(y, y_pred))\n",
    "    print('\\n')\n",
    "    print('Confusion Matrix:')\n",
    "    print(confusion_matrix(y, y_pred))\n",
    "    print('\\n')\n",
    "    print('Classification Report:')\n",
    "    print(classification_report(y, y_pred))\n",
    "    print('\\n')"
   ]
  },
  {
   "cell_type": "markdown",
   "metadata": {},
   "source": [
    "Choosing most important features to be used for training and evaluating the \n",
    "- higest 5 features in terms of correaltion with price_range are:\n",
    "  1- ram\n",
    "  2- battery_power\n",
    "  3- px_width\n",
    "  4- px_height\n",
    "  5- int_memory"
   ]
  },
  {
   "cell_type": "code",
   "execution_count": 17,
   "metadata": {},
   "outputs": [
    {
     "name": "stdout",
     "output_type": "stream",
     "text": [
      "ram              0.917448\n",
      "battery_power    0.199277\n",
      "px_width         0.163319\n",
      "px_height        0.147956\n",
      "int_memory       0.041812\n",
      "sc_w             0.038371\n",
      "pc               0.034716\n",
      "mobile_wt        0.032168\n",
      "touch_screen     0.030315\n",
      "three_g          0.024896\n",
      "fc               0.024738\n",
      "sc_h             0.021643\n",
      "blue             0.021330\n",
      "talk_time        0.020511\n",
      "wifi             0.019546\n",
      "dual_sim         0.019108\n",
      "four_g           0.015537\n",
      "clock_speed      0.006675\n",
      "n_cores          0.004662\n",
      "m_dep            0.001396\n",
      "Name: price_range, dtype: float64\n"
     ]
    }
   ],
   "source": [
    "\n",
    "# choose the best featuers according to the correlation with the target variable price_range\n",
    "correlation = df.corr()\n",
    "correlation = correlation['price_range']\n",
    "# absolute values of the correlation\n",
    "correlation = correlation.abs()\n",
    "correlation = correlation.sort_values(ascending=False)\n",
    "correlation = correlation.drop('price_range')\n",
    "print(correlation)"
   ]
  },
  {
   "cell_type": "code",
   "execution_count": 18,
   "metadata": {},
   "outputs": [
    {
     "data": {
      "text/html": [
       "<div>\n",
       "<style scoped>\n",
       "    .dataframe tbody tr th:only-of-type {\n",
       "        vertical-align: middle;\n",
       "    }\n",
       "\n",
       "    .dataframe tbody tr th {\n",
       "        vertical-align: top;\n",
       "    }\n",
       "\n",
       "    .dataframe thead th {\n",
       "        text-align: right;\n",
       "    }\n",
       "</style>\n",
       "<table border=\"1\" class=\"dataframe\">\n",
       "  <thead>\n",
       "    <tr style=\"text-align: right;\">\n",
       "      <th></th>\n",
       "      <th>ram</th>\n",
       "      <th>battery_power</th>\n",
       "      <th>px_width</th>\n",
       "      <th>px_height</th>\n",
       "    </tr>\n",
       "  </thead>\n",
       "  <tbody>\n",
       "    <tr>\n",
       "      <th>0</th>\n",
       "      <td>0.612774</td>\n",
       "      <td>0.227789</td>\n",
       "      <td>0.170895</td>\n",
       "      <td>0.010204</td>\n",
       "    </tr>\n",
       "    <tr>\n",
       "      <th>1</th>\n",
       "      <td>0.634687</td>\n",
       "      <td>0.347361</td>\n",
       "      <td>0.993324</td>\n",
       "      <td>0.461735</td>\n",
       "    </tr>\n",
       "    <tr>\n",
       "      <th>2</th>\n",
       "      <td>0.627205</td>\n",
       "      <td>0.041416</td>\n",
       "      <td>0.811749</td>\n",
       "      <td>0.644388</td>\n",
       "    </tr>\n",
       "    <tr>\n",
       "      <th>3</th>\n",
       "      <td>0.671566</td>\n",
       "      <td>0.076152</td>\n",
       "      <td>0.858478</td>\n",
       "      <td>0.620408</td>\n",
       "    </tr>\n",
       "    <tr>\n",
       "      <th>4</th>\n",
       "      <td>0.308658</td>\n",
       "      <td>0.881764</td>\n",
       "      <td>0.475300</td>\n",
       "      <td>0.616327</td>\n",
       "    </tr>\n",
       "  </tbody>\n",
       "</table>\n",
       "</div>"
      ],
      "text/plain": [
       "        ram  battery_power  px_width  px_height\n",
       "0  0.612774       0.227789  0.170895   0.010204\n",
       "1  0.634687       0.347361  0.993324   0.461735\n",
       "2  0.627205       0.041416  0.811749   0.644388\n",
       "3  0.671566       0.076152  0.858478   0.620408\n",
       "4  0.308658       0.881764  0.475300   0.616327"
      ]
     },
     "execution_count": 18,
     "metadata": {},
     "output_type": "execute_result"
    }
   ],
   "source": [
    "# retrieve the hight 5 features\n",
    "features = correlation.index[:4]\n",
    "X = df[features]\n",
    "y = df['price_range']\n",
    "X.head()\n"
   ]
  },
  {
   "cell_type": "code",
   "execution_count": 19,
   "metadata": {},
   "outputs": [],
   "source": [
    "x_train, x_val, y_train, y_val = train_test_split(X, y, test_size=0.2, random_state=42)"
   ]
  },
  {
   "cell_type": "markdown",
   "metadata": {},
   "source": [
    "# Logisitic regression model trial\n",
    "- Since logistic regression is a simple model that handles a classification problem well\n",
    "- Accuracy of the model was 94%, which is high "
   ]
  },
  {
   "cell_type": "code",
   "execution_count": 20,
   "metadata": {},
   "outputs": [
    {
     "name": "stdout",
     "output_type": "stream",
     "text": [
      "Accuracy: 0.9448621553884712\n",
      "\n",
      "\n",
      "Confusion Matrix:\n",
      "[[106   0   0   0]\n",
      " [  2  85   2   0]\n",
      " [  0   7  92   8]\n",
      " [  0   0   3  94]]\n",
      "\n",
      "\n",
      "Classification Report:\n",
      "              precision    recall  f1-score   support\n",
      "\n",
      "           0       0.98      1.00      0.99       106\n",
      "           1       0.92      0.96      0.94        89\n",
      "           2       0.95      0.86      0.90       107\n",
      "           3       0.92      0.97      0.94        97\n",
      "\n",
      "    accuracy                           0.94       399\n",
      "   macro avg       0.94      0.95      0.94       399\n",
      "weighted avg       0.95      0.94      0.94       399\n",
      "\n",
      "\n",
      "\n"
     ]
    }
   ],
   "source": [
    "\n",
    "lr = LogisticRegression()\n",
    "lr.fit(x_train, y_train)\n",
    "y_pred = lr.predict(x_val)\n",
    "evaluate_model(y_val, y_pred)"
   ]
  },
  {
   "cell_type": "markdown",
   "metadata": {},
   "source": [
    "# Random forest model trial\n",
    "- Decision trees are prone to overfitting, however, random forests are a good way to mitigate this issue. Since the data is not very complex, some rules can be deduced such as the ones proposed in the EDA analysis. As such, a random forest model should be able to predict the price range with a reasonably good accuracy\n",
    "\n",
    "- While the Random Forest model does show good results, the logistic regression is still\n",
    "produces better results. The accuracy rises minimally by increasing the number of estimators, but this comes at the cost of computational power."
   ]
  },
  {
   "cell_type": "code",
   "execution_count": 21,
   "metadata": {},
   "outputs": [
    {
     "name": "stdout",
     "output_type": "stream",
     "text": [
      "Accuracy: 0.924812030075188\n",
      "\n",
      "\n",
      "Confusion Matrix:\n",
      "[[100   6   0   0]\n",
      " [  7  79   3   0]\n",
      " [  0   5  95   7]\n",
      " [  0   0   2  95]]\n",
      "\n",
      "\n",
      "Classification Report:\n",
      "              precision    recall  f1-score   support\n",
      "\n",
      "           0       0.93      0.94      0.94       106\n",
      "           1       0.88      0.89      0.88        89\n",
      "           2       0.95      0.89      0.92       107\n",
      "           3       0.93      0.98      0.95        97\n",
      "\n",
      "    accuracy                           0.92       399\n",
      "   macro avg       0.92      0.92      0.92       399\n",
      "weighted avg       0.93      0.92      0.92       399\n",
      "\n",
      "\n",
      "\n"
     ]
    }
   ],
   "source": [
    "rf = RandomForestClassifier(n_estimators=200, random_state=42)\n",
    "rf.fit(x_train, y_train)\n",
    "y_pred = rf.predict(x_val)\n",
    "evaluate_model(y_val, y_pred)"
   ]
  },
  {
   "cell_type": "markdown",
   "metadata": {},
   "source": [
    "# SVM model trial\n",
    "- Since from EDA, we found that data is relatively linearly seperable. SVM with linear kernel performs well for this type of data since it maximizes the margin between the classes, which generalizes the data well and reduces overfitting."
   ]
  },
  {
   "cell_type": "code",
   "execution_count": 22,
   "metadata": {},
   "outputs": [
    {
     "name": "stdout",
     "output_type": "stream",
     "text": [
      "Accuracy: 0.9624060150375939\n",
      "\n",
      "\n",
      "Confusion Matrix:\n",
      "[[104   2   0   0]\n",
      " [  1  87   1   0]\n",
      " [  0   4  99   4]\n",
      " [  0   0   3  94]]\n",
      "\n",
      "\n",
      "Classification Report:\n",
      "              precision    recall  f1-score   support\n",
      "\n",
      "           0       0.99      0.98      0.99       106\n",
      "           1       0.94      0.98      0.96        89\n",
      "           2       0.96      0.93      0.94       107\n",
      "           3       0.96      0.97      0.96        97\n",
      "\n",
      "    accuracy                           0.96       399\n",
      "   macro avg       0.96      0.96      0.96       399\n",
      "weighted avg       0.96      0.96      0.96       399\n",
      "\n",
      "\n",
      "\n"
     ]
    }
   ],
   "source": [
    "svm = SVC(kernel='linear', C=2)\n",
    "svm.fit(x_train, y_train)\n",
    "y_pred = svm.predict(x_val)\n",
    "evaluate_model(y_val, y_pred)"
   ]
  },
  {
   "cell_type": "markdown",
   "metadata": {},
   "source": [
    "# knn model trail\n",
    "- KNN is a simple memory-based algorithim, since also selected features for training and prediction is quite small,\n",
    "the model was chosen as a trial\n",
    "- The model produced a reasonable accuracy but still less than other models."
   ]
  },
  {
   "cell_type": "code",
   "execution_count": 23,
   "metadata": {},
   "outputs": [
    {
     "name": "stdout",
     "output_type": "stream",
     "text": [
      "Accuracy: 0.9047619047619048\n",
      "\n",
      "\n",
      "Confusion Matrix:\n",
      "[[103   3   0   0]\n",
      " [  6  77   6   0]\n",
      " [  0   8  91   8]\n",
      " [  0   0   7  90]]\n",
      "\n",
      "\n",
      "Classification Report:\n",
      "              precision    recall  f1-score   support\n",
      "\n",
      "           0       0.94      0.97      0.96       106\n",
      "           1       0.88      0.87      0.87        89\n",
      "           2       0.88      0.85      0.86       107\n",
      "           3       0.92      0.93      0.92        97\n",
      "\n",
      "    accuracy                           0.90       399\n",
      "   macro avg       0.90      0.90      0.90       399\n",
      "weighted avg       0.90      0.90      0.90       399\n",
      "\n",
      "\n",
      "\n"
     ]
    }
   ],
   "source": [
    "knn = KNeighborsClassifier(n_neighbors=9)\n",
    "knn.fit(x_train, y_train)\n",
    "y_pred = knn.predict(x_val)\n",
    "evaluate_model(y_val, y_pred)"
   ]
  },
  {
   "cell_type": "markdown",
   "metadata": {},
   "source": [
    "# XGBoost model trial\n",
    "- XGboost works by combining the predictions of many weak models to create a strong model\n",
    "- Since data is fairly simple, simple and weak classifiers can produce good results\n",
    "- XGboost combines them, prodcing better results"
   ]
  },
  {
   "cell_type": "code",
   "execution_count": 24,
   "metadata": {},
   "outputs": [
    {
     "name": "stdout",
     "output_type": "stream",
     "text": [
      "Accuracy: 0.9373433583959899\n",
      "\n",
      "\n",
      "Confusion Matrix:\n",
      "[[101   5   0   0]\n",
      " [  2  84   3   0]\n",
      " [  0   6  95   6]\n",
      " [  0   0   3  94]]\n",
      "\n",
      "\n",
      "Classification Report:\n",
      "              precision    recall  f1-score   support\n",
      "\n",
      "           0       0.98      0.95      0.97       106\n",
      "           1       0.88      0.94      0.91        89\n",
      "           2       0.94      0.89      0.91       107\n",
      "           3       0.94      0.97      0.95        97\n",
      "\n",
      "    accuracy                           0.94       399\n",
      "   macro avg       0.94      0.94      0.94       399\n",
      "weighted avg       0.94      0.94      0.94       399\n",
      "\n",
      "\n",
      "\n"
     ]
    }
   ],
   "source": [
    "xgb = XGBClassifier()\n",
    "xgb.fit(x_train, y_train)\n",
    "y_pred = xgb.predict(x_val)\n",
    "evaluate_model(y_val, y_pred)"
   ]
  },
  {
   "cell_type": "markdown",
   "metadata": {},
   "source": [
    "# Summary\n",
    " - SVM model produced highest results in terms of metrics, therefore it was selected for prediction.\n",
    "\n",
    " - Logistic regression is also a linear classifier, but it minimizes the logistic loss function rather than maximizing the margin between classes, as SVM does. SVM can perform better when the classes are well-separated because it directly optimizes for a larger margin, while logistic regression may not handle this as efficiently.\n",
    "\n",
    "- Random Forest is a tree-based model, which works well for non-linear decision boundaries and can handle a variety of data types. However, in cases where the decision boundary between classes is approximately linear, an SVM with a linear kernel may outperform Random Forest. Random Forests can also be prone to overfitting, especially if there’s noise in the data.\n",
    "\n",
    "- XGBoost is a boosting algorithm that often works well for non-linear data and imbalanced datasets. However, it might require more hyperparameter tuning and longer training times. If the decision boundary is mostly linear, a well-tuned SVM can be simpler, faster, and more effective than XGBoost. XGBoost is often more effective for complex, non-linear problems.\n",
    "\n",
    "- KNN is simpler than SVM, but didn't produce higher results as SVM, since the correlation between features and price_range\n",
    "is not balanced, and KNN gives all features the same importance"
   ]
  },
  {
   "cell_type": "code",
   "execution_count": 25,
   "metadata": {},
   "outputs": [
    {
     "data": {
      "text/plain": [
       "['Outputs/selected_features.pkl']"
      ]
     },
     "execution_count": 25,
     "metadata": {},
     "output_type": "execute_result"
    }
   ],
   "source": [
    "dump(svm, 'Outputs/svm_model.pkl')\n",
    "dump(features, 'Outputs/selected_features.pkl') "
   ]
  },
  {
   "cell_type": "markdown",
   "metadata": {},
   "source": [
    "# Analyzing on test data"
   ]
  },
  {
   "cell_type": "code",
   "execution_count": 22,
   "metadata": {},
   "outputs": [
    {
     "name": "stdout",
     "output_type": "stream",
     "text": [
      "Index(['ram', 'battery_power', 'px_width', 'px_height'], dtype='object')\n"
     ]
    }
   ],
   "source": [
    "test = pd.read_excel('Data/test.xlsx')\n",
    "scaler = load('Outputs/scaler.pkl')\n",
    "features = load('Outputs/selected_features.pkl')\n",
    "svm = load('Outputs/svm_model.pkl')\n",
    "print(features)"
   ]
  },
  {
   "cell_type": "code",
   "execution_count": 23,
   "metadata": {},
   "outputs": [],
   "source": [
    "test.iloc[:, 1:] = scaler.fit_transform(test.iloc[:, 1:])       \n",
    "x_test = test[features]"
   ]
  },
  {
   "cell_type": "code",
   "execution_count": 20,
   "metadata": {},
   "outputs": [
    {
     "data": {
      "text/html": [
       "<div>\n",
       "<style scoped>\n",
       "    .dataframe tbody tr th:only-of-type {\n",
       "        vertical-align: middle;\n",
       "    }\n",
       "\n",
       "    .dataframe tbody tr th {\n",
       "        vertical-align: top;\n",
       "    }\n",
       "\n",
       "    .dataframe thead th {\n",
       "        text-align: right;\n",
       "    }\n",
       "</style>\n",
       "<table border=\"1\" class=\"dataframe\">\n",
       "  <thead>\n",
       "    <tr style=\"text-align: right;\">\n",
       "      <th></th>\n",
       "      <th>id</th>\n",
       "      <th>battery_power</th>\n",
       "      <th>blue</th>\n",
       "      <th>clock_speed</th>\n",
       "      <th>dual_sim</th>\n",
       "      <th>fc</th>\n",
       "      <th>four_g</th>\n",
       "      <th>int_memory</th>\n",
       "      <th>m_dep</th>\n",
       "      <th>mobile_wt</th>\n",
       "      <th>...</th>\n",
       "      <th>px_height</th>\n",
       "      <th>px_width</th>\n",
       "      <th>ram</th>\n",
       "      <th>sc_h</th>\n",
       "      <th>sc_w</th>\n",
       "      <th>talk_time</th>\n",
       "      <th>three_g</th>\n",
       "      <th>touch_screen</th>\n",
       "      <th>wifi</th>\n",
       "      <th>price_range</th>\n",
       "    </tr>\n",
       "  </thead>\n",
       "  <tbody>\n",
       "    <tr>\n",
       "      <th>0</th>\n",
       "      <td>1</td>\n",
       "      <td>0.362241</td>\n",
       "      <td>1</td>\n",
       "      <td>0.52</td>\n",
       "      <td>1</td>\n",
       "      <td>0.736842</td>\n",
       "      <td>0</td>\n",
       "      <td>0.048387</td>\n",
       "      <td>0.000000</td>\n",
       "      <td>0.941667</td>\n",
       "      <td>...</td>\n",
       "      <td>0.118511</td>\n",
       "      <td>0.608550</td>\n",
       "      <td>0.862319</td>\n",
       "      <td>0.500000</td>\n",
       "      <td>0.388889</td>\n",
       "      <td>0.000000</td>\n",
       "      <td>0</td>\n",
       "      <td>1</td>\n",
       "      <td>0</td>\n",
       "      <td>3</td>\n",
       "    </tr>\n",
       "    <tr>\n",
       "      <th>1</th>\n",
       "      <td>2</td>\n",
       "      <td>0.227485</td>\n",
       "      <td>1</td>\n",
       "      <td>0.00</td>\n",
       "      <td>1</td>\n",
       "      <td>0.210526</td>\n",
       "      <td>1</td>\n",
       "      <td>0.951613</td>\n",
       "      <td>0.777778</td>\n",
       "      <td>0.925000</td>\n",
       "      <td>...</td>\n",
       "      <td>0.391190</td>\n",
       "      <td>0.237809</td>\n",
       "      <td>0.974772</td>\n",
       "      <td>0.071429</td>\n",
       "      <td>0.000000</td>\n",
       "      <td>0.277778</td>\n",
       "      <td>1</td>\n",
       "      <td>0</td>\n",
       "      <td>0</td>\n",
       "      <td>3</td>\n",
       "    </tr>\n",
       "    <tr>\n",
       "      <th>2</th>\n",
       "      <td>3</td>\n",
       "      <td>0.871915</td>\n",
       "      <td>1</td>\n",
       "      <td>0.92</td>\n",
       "      <td>0</td>\n",
       "      <td>0.052632</td>\n",
       "      <td>0</td>\n",
       "      <td>0.403226</td>\n",
       "      <td>0.888889</td>\n",
       "      <td>0.883333</td>\n",
       "      <td>...</td>\n",
       "      <td>0.665967</td>\n",
       "      <td>0.577822</td>\n",
       "      <td>0.572464</td>\n",
       "      <td>0.857143</td>\n",
       "      <td>0.555556</td>\n",
       "      <td>0.444444</td>\n",
       "      <td>0</td>\n",
       "      <td>1</td>\n",
       "      <td>1</td>\n",
       "      <td>3</td>\n",
       "    </tr>\n",
       "    <tr>\n",
       "      <th>3</th>\n",
       "      <td>4</td>\n",
       "      <td>0.697799</td>\n",
       "      <td>0</td>\n",
       "      <td>0.00</td>\n",
       "      <td>1</td>\n",
       "      <td>0.947368</td>\n",
       "      <td>1</td>\n",
       "      <td>0.370968</td>\n",
       "      <td>0.444444</td>\n",
       "      <td>0.133333</td>\n",
       "      <td>...</td>\n",
       "      <td>0.154693</td>\n",
       "      <td>0.835671</td>\n",
       "      <td>0.974235</td>\n",
       "      <td>0.357143</td>\n",
       "      <td>0.000000</td>\n",
       "      <td>0.277778</td>\n",
       "      <td>1</td>\n",
       "      <td>1</td>\n",
       "      <td>0</td>\n",
       "      <td>3</td>\n",
       "    </tr>\n",
       "    <tr>\n",
       "      <th>4</th>\n",
       "      <td>5</td>\n",
       "      <td>0.623082</td>\n",
       "      <td>0</td>\n",
       "      <td>0.36</td>\n",
       "      <td>0</td>\n",
       "      <td>0.578947</td>\n",
       "      <td>1</td>\n",
       "      <td>0.758065</td>\n",
       "      <td>0.444444</td>\n",
       "      <td>0.233333</td>\n",
       "      <td>...</td>\n",
       "      <td>0.392764</td>\n",
       "      <td>0.206413</td>\n",
       "      <td>0.405260</td>\n",
       "      <td>0.714286</td>\n",
       "      <td>0.444444</td>\n",
       "      <td>0.277778</td>\n",
       "      <td>1</td>\n",
       "      <td>0</td>\n",
       "      <td>1</td>\n",
       "      <td>1</td>\n",
       "    </tr>\n",
       "  </tbody>\n",
       "</table>\n",
       "<p>5 rows × 22 columns</p>\n",
       "</div>"
      ],
      "text/plain": [
       "   id  battery_power  blue  clock_speed  dual_sim        fc  four_g  \\\n",
       "0   1       0.362241     1         0.52         1  0.736842       0   \n",
       "1   2       0.227485     1         0.00         1  0.210526       1   \n",
       "2   3       0.871915     1         0.92         0  0.052632       0   \n",
       "3   4       0.697799     0         0.00         1  0.947368       1   \n",
       "4   5       0.623082     0         0.36         0  0.578947       1   \n",
       "\n",
       "   int_memory     m_dep  mobile_wt  ...  px_height  px_width       ram  \\\n",
       "0    0.048387  0.000000   0.941667  ...   0.118511  0.608550  0.862319   \n",
       "1    0.951613  0.777778   0.925000  ...   0.391190  0.237809  0.974772   \n",
       "2    0.403226  0.888889   0.883333  ...   0.665967  0.577822  0.572464   \n",
       "3    0.370968  0.444444   0.133333  ...   0.154693  0.835671  0.974235   \n",
       "4    0.758065  0.444444   0.233333  ...   0.392764  0.206413  0.405260   \n",
       "\n",
       "       sc_h      sc_w  talk_time  three_g  touch_screen  wifi  price_range  \n",
       "0  0.500000  0.388889   0.000000        0             1     0            3  \n",
       "1  0.071429  0.000000   0.277778        1             0     0            3  \n",
       "2  0.857143  0.555556   0.444444        0             1     1            3  \n",
       "3  0.357143  0.000000   0.277778        1             1     0            3  \n",
       "4  0.714286  0.444444   0.277778        1             0     1            1  \n",
       "\n",
       "[5 rows x 22 columns]"
      ]
     },
     "execution_count": 20,
     "metadata": {},
     "output_type": "execute_result"
    }
   ],
   "source": [
    "y_pred = svm.predict(x_test)\n",
    "test['price_range'] = y_pred\n",
    "test.head()"
   ]
  },
  {
   "cell_type": "code",
   "execution_count": 21,
   "metadata": {},
   "outputs": [
    {
     "name": "stdout",
     "output_type": "stream",
     "text": [
      "1000\n"
     ]
    },
    {
     "data": {
      "text/plain": [
       "<Axes: xlabel='price_range'>"
      ]
     },
     "execution_count": 21,
     "metadata": {},
     "output_type": "execute_result"
    },
    {
     "data": {
      "image/png": "[encoded data removed]",
      "text/plain": [
       "<Figure size 640x480 with 1 Axes>"
      ]
     },
     "metadata": {},
     "output_type": "display_data"
    }
   ],
   "source": [
    "print(len(test))\n",
    "test['price_range'].value_counts().plot(kind='bar')"
   ]
  }
 ],
 "metadata": {
  "kernelspec": {
   "display_name": "Python 3",
   "language": "python",
   "name": "python3"
  },
  "language_info": {
   "codemirror_mode": {
    "name": "ipython",
    "version": 3
   },
   "file_extension": ".py",
   "mimetype": "text/x-python",
   "name": "python",
   "nbconvert_exporter": "python",
   "pygments_lexer": "ipython3",
   "version": "3.12.5"
  }
 },
 "nbformat": 4,
 "nbformat_minor": 2
}
